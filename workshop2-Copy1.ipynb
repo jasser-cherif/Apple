{
 "cells": [
  {
   "cell_type": "code",
   "execution_count": 3,
   "id": "737427e2-4b2e-4f25-9c79-6865d5709c4c",
   "metadata": {},
   "outputs": [
    {
     "data": {
      "image/png": "[encoded data removed]",
      "text/plain": [
       "<PIL.GifImagePlugin.GifImageFile image mode=L size=256x256>"
      ]
     },
     "execution_count": 3,
     "metadata": {},
     "output_type": "execute_result"
    }
   ],
   "source": [
    "import numpy as np\n",
    "from PIL import Image\n",
    "\n",
    "img= Image.open(r\"C:\\Users\\Jasser\\Downloads\\apple-1.gif\")\n",
    "img"
   ]
  },
  {
   "cell_type": "code",
   "execution_count": 8,
   "id": "84ac297b-cc71-4921-82a9-bb876e1d5fae",
   "metadata": {},
   "outputs": [
    {
     "data": {
      "text/plain": [
       "array([[0, 0, 0, ..., 0, 0, 0],\n",
       "       [0, 0, 0, ..., 0, 0, 0],\n",
       "       [0, 0, 0, ..., 0, 0, 0],\n",
       "       ...,\n",
       "       [0, 0, 0, ..., 0, 0, 0],\n",
       "       [0, 0, 0, ..., 0, 0, 0],\n",
       "       [0, 0, 0, ..., 0, 0, 0]], dtype=uint8)"
      ]
     },
     "execution_count": 8,
     "metadata": {},
     "output_type": "execute_result"
    }
   ],
   "source": [
    "matrice=np.array(img)\n",
    "matrice"
   ]
  },
  {
   "cell_type": "code",
   "execution_count": 34,
   "id": "af7471a8-6e58-4ca2-a619-8bac43c89ab2",
   "metadata": {},
   "outputs": [
    {
     "data": {
      "text/plain": [
       "(256, 256)"
      ]
     },
     "execution_count": 34,
     "metadata": {},
     "output_type": "execute_result"
    }
   ],
   "source": [
    " def momentgeo( image, p, q):\n",
    "        moment = 0\n",
    "        for i in range(image.shape[0]):\n",
    "            for j in range(image.shape[1]):\n",
    "                moment += (i**p)*(j**q)*image[i][j]\n",
    "        return moment\n",
    " a=b=matrice.shape[0]\n",
    "a,b"
   ]
  },
  {
   "cell_type": "code",
   "execution_count": 36,
   "id": "1a7e258d-1d0a-46b8-98e4-5d2533ca4d1f",
   "metadata": {},
   "outputs": [
    {
     "data": {
      "text/plain": [
       "160556750182431251816261879680398500315788056625298662077426080998837811761963339545768385024408882625893803849524679805011389476364904750294340018598480793762221456035129472155855320461222286136205237010612361364876027262772792040692332268470694621953164127085465798485401359084378652283278247119137116697823625199383556574306721349580037341116814667831020531567581724640312226217593387246410942691909999917266402163588507464623786516773090385577778169140078423808802101982205702345502083927960091326334914100178539739093993786936053255623784255720747830638387758801241709667138184927722404724120806093580443506030121766363278409972814140521518331147712805857783095536686233326876848238127315111664954931876795669691706954449673054061013149401265214844464140297001163742607684634107735808545098662792773693904944557349297721997461469871745418256880801562588329514961539502969411575656054512572355773366673166740002894847345699144139576813778137463643445231456628988462271186922795065049539433319827669896600686167613538891675612908500365156915915303702780773836586419983673253109549931138938127018296178073654748800735614152739126834744822669779723188847958614523745"
      ]
     },
     "execution_count": 36,
     "metadata": {},
     "output_type": "execute_result"
    }
   ],
   "source": [
    "m0=momentgeo(matrice,a,b)   \n",
    "m0"
   ]
  },
  {
   "cell_type": "code",
   "execution_count": 12,
   "id": "5c93dea0-35e5-419c-a59f-6534632e8744",
   "metadata": {},
   "outputs": [
    {
     "data": {
      "text/plain": [
       "array([[0, 0, 0, ..., 0, 0, 0],\n",
       "       [0, 0, 0, ..., 0, 0, 0],\n",
       "       [0, 0, 0, ..., 0, 0, 0],\n",
       "       ...,\n",
       "       [0, 0, 0, ..., 0, 0, 0],\n",
       "       [0, 0, 0, ..., 0, 0, 0],\n",
       "       [0, 0, 0, ..., 0, 0, 0]], dtype=uint8)"
      ]
     },
     "execution_count": 12,
     "metadata": {},
     "output_type": "execute_result"
    }
   ],
   "source": [
    "inv=matrice.transpose()\n",
    "inv"
   ]
  },
  {
   "cell_type": "code",
   "execution_count": 14,
   "id": "684c3cdd-6454-4834-b276-a9902dd6dc5b",
   "metadata": {},
   "outputs": [
    {
     "data": {
      "image/png": "[encoded data removed]",
      "text/plain": [
       "<PIL.Image.Image image mode=L size=256x256>"
      ]
     },
     "execution_count": 14,
     "metadata": {},
     "output_type": "execute_result"
    }
   ],
   "source": [
    "pht=Image.fromarray(inv)\n",
    "pht"
   ]
  },
  {
   "cell_type": "code",
   "execution_count": 37,
   "id": "f29f07e4-1b4a-4f9f-ab5e-b277946268a9",
   "metadata": {},
   "outputs": [
    {
     "data": {
      "text/plain": [
       "160556750182431251816261879680398500315788056625298662077426080998837811761963339545768385024408882625893803849524679805011389476364904750294340018598480793762221456035129472155855320461222286136205237010612361364876027262772792040692332268470694621953164127085465798485401359084378652283278247119137116697823625199383556574306721349580037341116814667831020531567581724640312226217593387246410942691909999917266402163588507464623786516773090385577778169140078423808802101982205702345502083927960091326334914100178539739093993786936053255623784255720747830638387758801241709667138184927722404724120806093580443506030121766363278409972814140521518331147712805857783095536686233326876848238127315111664954931876795669691706954449673054061013149401265214844464140297001163742607684634107735808545098662792773693904944557349297721997461469871745418256880801562588329514961539502969411575656054512572355773366673166740002894847345699144139576813778137463643445231456628988462271186922795065049539433319827669896600686167613538891675612908500365156915915303702780773836586419983673253109549931138938127018296178073654748800735614152739126834744822669779723188847958614523745"
      ]
     },
     "execution_count": 37,
     "metadata": {},
     "output_type": "execute_result"
    }
   ],
   "source": [
    " m1=momentgeo(inv,a,b)   \n",
    " m1"
   ]
  },
  {
   "cell_type": "code",
   "execution_count": 38,
   "id": "45687b34-4350-4cc9-bcdf-85c2af2d4ae1",
   "metadata": {},
   "outputs": [
    {
     "data": {
      "text/plain": [
       "True"
      ]
     },
     "execution_count": 38,
     "metadata": {},
     "output_type": "execute_result"
    }
   ],
   "source": [
    "# ona inverser l'image et le moment geometriques reste le meme m0=m1\n",
    "m1==m0"
   ]
  },
  {
   "cell_type": "code",
   "execution_count": 64,
   "id": "3c9fe640-8821-4797-9af3-656c2fec2988",
   "metadata": {},
   "outputs": [
    {
     "data": {
      "text/plain": [
       "False"
      ]
     },
     "execution_count": 64,
     "metadata": {},
     "output_type": "execute_result"
    }
   ],
   "source": [
    " def momentcent( matrice):\n",
    "        \"\"\"\n",
    "        fonction qui calcul le moment centrees d'une matrice python\n",
    "\n",
    "        :param matrice: matrice a calculer\n",
    "        :return: moment centrees\n",
    "        \"\"\"\n",
    "        moment = []\n",
    "        for i in range(len(matrice)):\n",
    "            moment.append(0)\n",
    "            for j in range(len(matrice[0])):\n",
    "                moment[i] += matrice[i][j]\n",
    "        return moment\n",
    "j1=momentcent( matrice)\n",
    "j2=momentcent( inv)\n",
    "j1==j2"
   ]
  },
  {
   "cell_type": "code",
   "execution_count": 54,
   "id": "b3c92620-fe88-4f25-85c4-78cbda19a6ff",
   "metadata": {},
   "outputs": [
    {
     "data": {
      "text/plain": [
       "False"
      ]
     },
     "execution_count": 54,
     "metadata": {},
     "output_type": "execute_result"
    }
   ],
   "source": [
    "#les moments centrees  d'une image et son inverse ne sont pas egaux\n",
    "\n",
    "from numpy import mgrid, sum\n",
    "\n",
    "def moments2e(image):\n",
    "  \"\"\"\n",
    "  This function calculates the raw, centered and normalized moments\n",
    "  for any image passed as a numpy array.\n",
    "  Further reading:\n",
    "  https://en.wikipedia.org/wiki/Image_moment\n",
    "  https://en.wikipedia.org/wiki/Central_moment\n",
    "  https://en.wikipedia.org/wiki/Moment_(mathematics)\n",
    "  https://en.wikipedia.org/wiki/Standardized_moment\n",
    "  http://opencv.willowgarage.com/documentation/cpp/structural_analysis_and_shape_descriptors.html#cv-moments\n",
    "  \n",
    "  compare with:\n",
    "  import cv2\n",
    "  cv2.moments(image)\n",
    "  \"\"\"\n",
    "  assert len(image.shape) == 2 # only for grayscale images        \n",
    "  y,x = mgrid[:image.shape[0],:image.shape[1]]\n",
    "  moments = {}\n",
    "  moments['mean_x'] = sum(x*image)/sum(image)\n",
    "  moments['mean_y'] = sum(y*image)/sum(image)\n",
    "          \n",
    "  # raw or spatial moments\n",
    "  moments['m00'] = sum(image)\n",
    "  moments['m01'] = sum(y*image)\n",
    "  moments['m10'] = sum(x*image)\n",
    "  moments['m11'] = sum(y*x*image)\n",
    "  moments['m02'] = sum(y**2*image)\n",
    "  moments['m20'] = sum(x**2*image)\n",
    "  moments['m12'] = sum(x*y**2*image)\n",
    "  moments['m21'] = sum(x**2*y*image)\n",
    "  moments['m03'] = sum(x**3*image)\n",
    "  moments['m30'] = sum(y**3*image)\n",
    "  \n",
    "  # central moments\n",
    "  # moments['mu01']= sum((y-moments['mean_y'])*image) # should be 0\n",
    "  # moments['mu10']= sum((x-moments['mean_x'])*image) # should be 0\n",
    "  moments['mu11'] = sum((x-moments['mean_x'])*(y-moments['mean_y'])*image)\n",
    "  moments['mu02'] = sum((y-moments['mean_y'])**2*image) # variance\n",
    "  moments['mu20'] = sum((x-moments['mean_x'])**2*image) # variance\n",
    "  moments['mu12'] = sum((x-moments['mean_x'])*(y-moments['mean_y'])**2*image)\n",
    "  moments['mu21'] = sum((x-moments['mean_x'])**2*(y-moments['mean_y'])*image) \n",
    "  moments['mu03'] = sum((y-moments['mean_y'])**3*image) \n",
    "  moments['mu30'] = sum((x-moments['mean_x'])**3*image) \n",
    "\n",
    "    \n",
    "  # opencv versions\n",
    "  #moments['mu02'] = sum(image*(x-m01/m00)**2)\n",
    "  #moments['mu02'] = sum(image*(x-y)**2)\n",
    "\n",
    "  # wiki variations\n",
    "  #moments['mu02'] = m20 - mean_y*m10 \n",
    "  #moments['mu20'] = m02 - mean_x*m01\n",
    "        \n",
    "  # central standardized or normalized or scale invariant moments\n",
    "  moments['nu11'] = moments['mu11'] / sum(image)**(2/2+1)\n",
    "  moments['nu12'] = moments['mu12'] / sum(image)**(3/2+1)\n",
    "  moments['nu21'] = moments['mu21'] / sum(image)**(3/2+1)\n",
    "  moments['nu20'] = moments['mu20'] / sum(image)**(2/2+1)\n",
    "  moments['nu03'] = moments['mu03'] / sum(image)**(3/2+1) # skewness\n",
    "  moments['nu30'] = moments['mu30'] / sum(image)**(3/2+1) # skewness\n",
    "  return moments\n",
    "minv=moments2e(inv)\n",
    "mmat=moments2e(matrice)\n",
    "mmat==minv"
   ]
  },
  {
   "cell_type": "code",
   "execution_count": 62,
   "id": "2aac5fee-797c-426d-9377-da1af7fdbc33",
   "metadata": {},
   "outputs": [
    {
     "data": {
      "text/plain": [
       "False"
      ]
     },
     "execution_count": 62,
     "metadata": {},
     "output_type": "execute_result"
    }
   ],
   "source": [
    "#les moments centrees et normaisees  d'une image et son inverse ne sont pas egaux \n",
    "\n",
    "def Hu_invariants(img):\n",
    "    \"\"\"\n",
    "    fonction qui calcule Les sept invariants de Hu d'une matrice python sans cv2\n",
    "    \"\"\"\n",
    "    m00 = np.sum(img)\n",
    "    m10 = np.sum(img * np.arange(img.shape[1]))\n",
    "    m01 = np.sum(img * np.arange(img.shape[0]).reshape(-1, 1))\n",
    "    x_centroid = m10 / m00\n",
    "    y_centroid = m01 / m00\n",
    "    u00 = np.sum((np.arange(img.shape[1]) - x_centroid) ** 2 * img)\n",
    "    u01 = np.sum((np.arange(img.shape[1]) - x_centroid) * (np.arange(img.shape[0]).reshape(-1, 1) - y_centroid) * img)\n",
    "    u11 = np.sum((np.arange(img.shape[0]).reshape(-1, 1) - y_centroid) ** 2 * img)\n",
    "    return [m00, m10, m01, x_centroid, y_centroid, u00, u01, u11]\n",
    "l1=Hu_invariants(matrice)\n",
    "l2=Hu_invariants(inv)\n",
    "l1==l2\n"
   ]
  },
  {
   "cell_type": "code",
   "execution_count": null,
   "id": "ffe1f954-2df0-470a-b843-0a4870d47daf",
   "metadata": {},
   "outputs": [],
   "source": [
    "# les 7 invariants de Hu d'une image et son inverse ne son pas egaux"
   ]
  }
 ],
 "metadata": {
  "kernelspec": {
   "display_name": "Python 3 (ipykernel)",
   "language": "python",
   "name": "python3"
  },
  "language_info": {
   "codemirror_mode": {
    "name": "ipython",
    "version": 3
   },
   "file_extension": ".py",
   "mimetype": "text/x-python",
   "name": "python",
   "nbconvert_exporter": "python",
   "pygments_lexer": "ipython3",
   "version": "3.9.13"
  }
 },
 "nbformat": 4,
 "nbformat_minor": 5
}
